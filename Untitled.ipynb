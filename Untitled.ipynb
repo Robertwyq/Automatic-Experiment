{
 "cells": [
  {
   "cell_type": "markdown",
   "metadata": {},
   "source": [
    "## 卡尔曼滤波 "
   ]
  },
  {
   "cell_type": "markdown",
   "metadata": {},
   "source": [
    "### 对象：速度v 和位置x"
   ]
  },
  {
   "cell_type": "code",
   "execution_count": 3,
   "metadata": {},
   "outputs": [
    {
     "data": {
      "image/png": "[encoded data removed]",
      "text/plain": [
       "<Figure size 432x288 with 1 Axes>"
      ]
     },
     "metadata": {},
     "output_type": "display_data"
    }
   ],
   "source": [
    "import numpy as np\n",
    "import matplotlib.pyplot as plt\n",
    " \n",
    "# 创建一个0-99的一维矩阵\n",
    "z = [i for i in range(100)]\n",
    "z_watch = np.mat(z)\n",
    "#print(z_mat)\n",
    " \n",
    "# 创建一个方差为1的高斯噪声，精确到小数点后两位\n",
    "noise = np.round(np.random.normal(0, 1, 100), 2)\n",
    "noise_mat = np.mat(noise)\n",
    " \n",
    "# 将z的观测值和噪声相加\n",
    "z_mat = z_watch + noise_mat\n",
    "#print(z_watch)\n",
    " \n",
    "# 定义x的初始状态\n",
    "x_mat = np.mat([[0,], [0,]])\n",
    "# 定义初始状态协方差矩阵\n",
    "p_mat = np.mat([[1, 0], [0, 1]])\n",
    "# 定义状态转移矩阵，因为每秒钟采一次样，所以delta_t = 1\n",
    "f_mat = np.mat([[1, 1], [0, 1]])\n",
    "# 定义状态转移协方差矩阵，这里我们把协方差设置的很小，因为觉得状态转移矩阵准确度高\n",
    "q_mat = np.mat([[0.0001, 0], [0, 0.0001]])\n",
    "# 定义观测矩阵\n",
    "h_mat = np.mat([1, 0])\n",
    "# 定义观测噪声协方差\n",
    "r_mat = np.mat([1])\n",
    " \n",
    "for i in range(100):\n",
    "    x_predict = f_mat * x_mat\n",
    "    p_predict = f_mat * p_mat * f_mat.T + q_mat\n",
    "    kalman = p_predict * h_mat.T / (h_mat * p_predict * h_mat.T + r_mat)\n",
    "    x_mat = x_predict + kalman *(z_mat[0, i] - h_mat * x_predict)\n",
    "    p_mat = (np.eye(2) - kalman * h_mat) * p_predict\n",
    "    \n",
    "    plt.plot(x_mat[0, 0], x_mat[1, 0], 'ro', markersize = 1)\n",
    "    \n",
    "plt.show()"
   ]
  },
  {
   "cell_type": "code",
   "execution_count": null,
   "metadata": {},
   "outputs": [],
   "source": []
  }
 ],
 "metadata": {
  "kernelspec": {
   "display_name": "Python 3",
   "language": "python",
   "name": "python3"
  },
  "language_info": {
   "codemirror_mode": {
    "name": "ipython",
    "version": 3
   },
   "file_extension": ".py",
   "mimetype": "text/x-python",
   "name": "python",
   "nbconvert_exporter": "python",
   "pygments_lexer": "ipython3",
   "version": "3.6.9"
  }
 },
 "nbformat": 4,
 "nbformat_minor": 2
}
